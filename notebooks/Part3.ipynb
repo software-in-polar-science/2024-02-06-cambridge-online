{
 "cells": [
  {
   "cell_type": "markdown",
   "metadata": {},
   "source": [
    "**Lists**"
   ]
  },
  {
   "cell_type": "code",
   "execution_count": 5,
   "metadata": {},
   "outputs": [],
   "source": [
    "list = [\"one\", 2, True, [1,2,3]]"
   ]
  },
  {
   "cell_type": "code",
   "execution_count": 6,
   "metadata": {},
   "outputs": [
    {
     "data": {
      "text/plain": [
       "3"
      ]
     },
     "execution_count": 6,
     "metadata": {},
     "output_type": "execute_result"
    }
   ],
   "source": [
    "primes = [2,3,5]\n",
    "len(primes)"
   ]
  },
  {
   "cell_type": "code",
   "execution_count": 7,
   "metadata": {},
   "outputs": [
    {
     "data": {
      "text/plain": [
       "5"
      ]
     },
     "execution_count": 7,
     "metadata": {},
     "output_type": "execute_result"
    }
   ],
   "source": [
    "primes[2]"
   ]
  },
  {
   "cell_type": "code",
   "execution_count": 9,
   "metadata": {},
   "outputs": [
    {
     "name": "stdout",
     "output_type": "stream",
     "text": [
      "[2, 3, 'five']\n"
     ]
    }
   ],
   "source": [
    "primes[2]=\"five\"\n",
    "print(primes)"
   ]
  },
  {
   "cell_type": "code",
   "execution_count": 10,
   "metadata": {},
   "outputs": [],
   "source": [
    "primes.append(7)"
   ]
  },
  {
   "cell_type": "code",
   "execution_count": 11,
   "metadata": {},
   "outputs": [
    {
     "name": "stdout",
     "output_type": "stream",
     "text": [
      "[2, 3, 'five', 7]\n"
     ]
    }
   ],
   "source": [
    "print(primes)"
   ]
  },
  {
   "cell_type": "code",
   "execution_count": 12,
   "metadata": {},
   "outputs": [],
   "source": [
    "teenprimes = [11,13,17,19]\n",
    "primes.append(teenprimes)"
   ]
  },
  {
   "cell_type": "code",
   "execution_count": 13,
   "metadata": {},
   "outputs": [
    {
     "name": "stdout",
     "output_type": "stream",
     "text": [
      "[2, 3, 'five', 7, [11, 13, 17, 19]]\n"
     ]
    }
   ],
   "source": [
    "print(primes)"
   ]
  },
  {
   "cell_type": "code",
   "execution_count": 14,
   "metadata": {},
   "outputs": [],
   "source": [
    "primes.extend(teenprimes)"
   ]
  },
  {
   "cell_type": "code",
   "execution_count": 15,
   "metadata": {},
   "outputs": [
    {
     "name": "stdout",
     "output_type": "stream",
     "text": [
      "[2, 3, 'five', 7, [11, 13, 17, 19], 11, 13, 17, 19]\n"
     ]
    }
   ],
   "source": [
    "print(primes)"
   ]
  },
  {
   "cell_type": "code",
   "execution_count": 18,
   "metadata": {},
   "outputs": [
    {
     "name": "stdout",
     "output_type": "stream",
     "text": [
      "[2, 3, 'five', 7, 17, 19]\n"
     ]
    }
   ],
   "source": [
    "del primes[4]\n",
    "print(primes)"
   ]
  },
  {
   "cell_type": "code",
   "execution_count": 22,
   "metadata": {},
   "outputs": [
    {
     "data": {
      "text/plain": [
       "'five'"
      ]
     },
     "execution_count": 22,
     "metadata": {},
     "output_type": "execute_result"
    }
   ],
   "source": [
    "primes.pop()"
   ]
  },
  {
   "cell_type": "code",
   "execution_count": 23,
   "metadata": {},
   "outputs": [
    {
     "name": "stdout",
     "output_type": "stream",
     "text": [
      "[2, 3]\n"
     ]
    }
   ],
   "source": [
    "print(primes)"
   ]
  },
  {
   "cell_type": "code",
   "execution_count": 24,
   "metadata": {},
   "outputs": [
    {
     "ename": "IndexError",
     "evalue": "list index out of range",
     "output_type": "error",
     "traceback": [
      "\u001b[0;31m---------------------------------------------------------------------------\u001b[0m",
      "\u001b[0;31mIndexError\u001b[0m                                Traceback (most recent call last)",
      "Cell \u001b[0;32mIn[24], line 1\u001b[0m\n\u001b[0;32m----> 1\u001b[0m \u001b[38;5;28mprint\u001b[39m(\u001b[43mprimes\u001b[49m\u001b[43m[\u001b[49m\u001b[38;5;241;43m4\u001b[39;49m\u001b[43m]\u001b[49m)\n",
      "\u001b[0;31mIndexError\u001b[0m: list index out of range"
     ]
    }
   ],
   "source": [
    "print(primes[4])"
   ]
  },
  {
   "cell_type": "code",
   "execution_count": 25,
   "metadata": {},
   "outputs": [
    {
     "data": {
      "text/plain": [
       "'a'"
      ]
     },
     "execution_count": 25,
     "metadata": {},
     "output_type": "execute_result"
    }
   ],
   "source": [
    "word = \"antarctica\"\n",
    "word[3]"
   ]
  },
  {
   "cell_type": "code",
   "execution_count": 26,
   "metadata": {},
   "outputs": [
    {
     "ename": "AttributeError",
     "evalue": "'str' object has no attribute 'append'",
     "output_type": "error",
     "traceback": [
      "\u001b[0;31m---------------------------------------------------------------------------\u001b[0m",
      "\u001b[0;31mAttributeError\u001b[0m                            Traceback (most recent call last)",
      "Cell \u001b[0;32mIn[26], line 1\u001b[0m\n\u001b[0;32m----> 1\u001b[0m \u001b[43mword\u001b[49m\u001b[38;5;241;43m.\u001b[39;49m\u001b[43mappend\u001b[49m(\u001b[38;5;124m\"\u001b[39m\u001b[38;5;124m!\u001b[39m\u001b[38;5;124m\"\u001b[39m)\n",
      "\u001b[0;31mAttributeError\u001b[0m: 'str' object has no attribute 'append'"
     ]
    }
   ],
   "source": [
    "word.append(\"!\")"
   ]
  },
  {
   "cell_type": "code",
   "execution_count": 27,
   "metadata": {},
   "outputs": [
    {
     "data": {
      "text/plain": [
       "'antarctica'"
      ]
     },
     "execution_count": 27,
     "metadata": {},
     "output_type": "execute_result"
    }
   ],
   "source": [
    "\"antarct\" + \"ica\""
   ]
  },
  {
   "cell_type": "markdown",
   "metadata": {},
   "source": [
    "**For Loops**"
   ]
  },
  {
   "cell_type": "code",
   "execution_count": 32,
   "metadata": {},
   "outputs": [
    {
     "name": "stdout",
     "output_type": "stream",
     "text": [
      "2\n",
      "4\n",
      "8\n",
      "3\n",
      "9\n",
      "27\n",
      "5\n",
      "25\n",
      "125\n"
     ]
    }
   ],
   "source": [
    "for a in [2,3,5]:\n",
    "    print(a)\n",
    "    print(a**2)\n",
    "    print(a**3)"
   ]
  },
  {
   "cell_type": "code",
   "execution_count": 35,
   "metadata": {},
   "outputs": [
    {
     "name": "stdout",
     "output_type": "stream",
     "text": [
      "0\n",
      "1\n",
      "2\n",
      "3\n"
     ]
    }
   ],
   "source": [
    "for number in range(0,4):\n",
    "    print(number)\n",
    "    "
   ]
  },
  {
   "cell_type": "code",
   "execution_count": 37,
   "metadata": {},
   "outputs": [
    {
     "name": "stdout",
     "output_type": "stream",
     "text": [
      "1\n",
      "3\n",
      "6\n",
      "10\n",
      "15\n",
      "21\n",
      "28\n",
      "36\n",
      "45\n",
      "55\n",
      "55\n"
     ]
    }
   ],
   "source": [
    "total=0\n",
    "for number in range(10):\n",
    "    total = total+(number+1)\n",
    "    print(total)\n",
    "print(total)"
   ]
  },
  {
   "cell_type": "markdown",
   "metadata": {},
   "source": [
    "**Conditionals - if...elif...else**"
   ]
  },
  {
   "cell_type": "code",
   "execution_count": 42,
   "metadata": {},
   "outputs": [
    {
     "name": "stdout",
     "output_type": "stream",
     "text": [
      "3 is a good size\n"
     ]
    }
   ],
   "source": [
    "mass = 3\n",
    "if mass>3.0:\n",
    "    print(mass, \" is large\")\n",
    "elif mass==3:\n",
    "    print(mass, \"is a good size\")\n",
    "else:\n",
    "    print(mass, \" is small\")"
   ]
  },
  {
   "cell_type": "code",
   "execution_count": 45,
   "metadata": {},
   "outputs": [
    {
     "name": "stdout",
     "output_type": "stream",
     "text": [
      "grade is B\n"
     ]
    }
   ],
   "source": [
    "grade = 85\n",
    "if (grade >= 70 and grade < 80):\n",
    "    print('grade is C')\n",
    "elif (grade >= 80 and grade < 90):\n",
    "    print('grade is B')\n",
    "elif (grade >= 90 and grade <=100):\n",
    "    print('grade is A')"
   ]
  },
  {
   "cell_type": "code",
   "execution_count": 46,
   "metadata": {},
   "outputs": [
    {
     "name": "stdout",
     "output_type": "stream",
     "text": [
      "0 : 10.0\n",
      "too slow!\n",
      "1 : 20.0\n",
      "too slow!\n",
      "2 : 30.0\n",
      "too fast!\n",
      "3 : 25.0\n",
      "too fast!\n",
      "4 : 20.0\n",
      "too slow!\n",
      "final velocity:  30.0\n"
     ]
    }
   ],
   "source": [
    "velocity = 10.0\n",
    "for i in range(5):\n",
    "    print(i, \":\", velocity)\n",
    "    if velocity>20:\n",
    "        print(\"too fast!\")\n",
    "        velocity = velocity - 5.0\n",
    "    else:\n",
    "        print(\"too slow!\")\n",
    "        velocity = velocity+10\n",
    "print(\"final velocity: \", velocity)"
   ]
  },
  {
   "cell_type": "markdown",
   "metadata": {},
   "source": [
    "**Looping over data sets - glob.glob**"
   ]
  },
  {
   "cell_type": "code",
   "execution_count": 47,
   "metadata": {},
   "outputs": [
    {
     "name": "stdout",
     "output_type": "stream",
     "text": [
      "data/gapminder_gdp_africa.csv gdpPercap_1952    298.846212\n",
      "gdpPercap_1957    335.997115\n",
      "gdpPercap_1962    355.203227\n",
      "gdpPercap_1967    412.977514\n",
      "gdpPercap_1972    464.099504\n",
      "gdpPercap_1977    502.319733\n",
      "gdpPercap_1982    462.211415\n",
      "gdpPercap_1987    389.876185\n",
      "gdpPercap_1992    410.896824\n",
      "gdpPercap_1997    312.188423\n",
      "gdpPercap_2002    241.165876\n",
      "gdpPercap_2007    277.551859\n",
      "dtype: float64\n",
      "data/gapminder_gdp_asia.csv gdpPercap_1952    331.0\n",
      "gdpPercap_1957    350.0\n",
      "gdpPercap_1962    388.0\n",
      "gdpPercap_1967    349.0\n",
      "gdpPercap_1972    357.0\n",
      "gdpPercap_1977    371.0\n",
      "gdpPercap_1982    424.0\n",
      "gdpPercap_1987    385.0\n",
      "gdpPercap_1992    347.0\n",
      "gdpPercap_1997    415.0\n",
      "gdpPercap_2002    611.0\n",
      "gdpPercap_2007    944.0\n",
      "dtype: float64\n"
     ]
    }
   ],
   "source": [
    "import pandas as pd\n",
    "for filename in [\"data/gapminder_gdp_africa.csv\", \"data/gapminder_gdp_asia.csv\"]:\n",
    "    data = pd.read_csv(filename, index_col=\"country\")\n",
    "    print(filename, data.min())"
   ]
  },
  {
   "cell_type": "code",
   "execution_count": 48,
   "metadata": {},
   "outputs": [
    {
     "name": "stdout",
     "output_type": "stream",
     "text": [
      "all csv files:  ['data/gapminder_all.csv', 'data/gapminder_gdp_africa.csv', 'data/gapminder_gdp_americas.csv', 'data/gapminder_gdp_asia.csv', 'data/gapminder_gdp_europe.csv', 'data/gapminder_gdp_oceania.csv']\n"
     ]
    }
   ],
   "source": [
    "import glob\n",
    "print(\"all csv files: \", glob.glob(\"data/*.csv\"))"
   ]
  },
  {
   "cell_type": "code",
   "execution_count": 49,
   "metadata": {},
   "outputs": [
    {
     "name": "stdout",
     "output_type": "stream",
     "text": [
      "all csv files:  []\n"
     ]
    }
   ],
   "source": [
    "print(\"all csv files: \", glob.glob(\"data/*.txt\"))"
   ]
  },
  {
   "cell_type": "code",
   "execution_count": 51,
   "metadata": {},
   "outputs": [
    {
     "name": "stdout",
     "output_type": "stream",
     "text": [
      "data/gapminder_all.csv 298.8462121\n",
      "data/gapminder_gdp_africa.csv 298.8462121\n",
      "data/gapminder_gdp_americas.csv 1397.717137\n",
      "data/gapminder_gdp_asia.csv 331.0\n",
      "data/gapminder_gdp_europe.csv 973.5331948\n",
      "data/gapminder_gdp_oceania.csv 10039.59564\n"
     ]
    }
   ],
   "source": [
    "for filename in glob.glob(\"data/gapminder_*.csv\"):\n",
    "    data = pd.read_csv(filename)\n",
    "    print(filename, data[\"gdpPercap_1952\"].min())"
   ]
  },
  {
   "cell_type": "code",
   "execution_count": null,
   "metadata": {},
   "outputs": [],
   "source": []
  }
 ],
 "metadata": {
  "kernelspec": {
   "display_name": "Python [conda env:sips]",
   "language": "python",
   "name": "conda-env-sips-py"
  },
  "language_info": {
   "codemirror_mode": {
    "name": "ipython",
    "version": 3
   },
   "file_extension": ".py",
   "mimetype": "text/x-python",
   "name": "python",
   "nbconvert_exporter": "python",
   "pygments_lexer": "ipython3",
   "version": "3.12.1"
  }
 },
 "nbformat": 4,
 "nbformat_minor": 4
}
